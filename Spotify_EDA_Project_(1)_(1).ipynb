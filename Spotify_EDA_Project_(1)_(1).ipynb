{
  "cells": [
    {
      "cell_type": "markdown",
      "metadata": {
        "id": "view-in-github",
        "colab_type": "text"
      },
      "source": [
        "<a href=\"https://colab.research.google.com/github/pulkitsabharwal19-droid/my-eda-project-/blob/main/Spotify_EDA_Project_(1)_(1).ipynb\" target=\"_parent\"><img src=\"https://colab.research.google.com/assets/colab-badge.svg\" alt=\"Open In Colab\"/></a>"
      ]
    },
    {
      "cell_type": "markdown",
      "id": "64dae468",
      "metadata": {
        "id": "64dae468"
      },
      "source": [
        "# Spotify Songs EDA Project\n",
        "\n",
        "This is my exploratory data analysis (EDA) project on the Spotify Songs dataset. I am a 2nd year B.Tech student and this is one of my first projects in Machine Learning domain."
      ]
    },
    {
      "cell_type": "code",
      "execution_count": 13,
      "id": "fhshvKZTjizT",
      "metadata": {
        "id": "fhshvKZTjizT"
      },
      "outputs": [],
      "source": [
        "import matplotlib.pyplot as plt\n",
        "import seaborn as sns\n",
        "import pandas as pd\n"
      ]
    },
    {
      "cell_type": "code",
      "execution_count": null,
      "id": "UasZA8EqhUis",
      "metadata": {
        "colab": {
          "base_uri": "https://localhost:8080/",
          "height": 56
        },
        "id": "UasZA8EqhUis",
        "outputId": "e1c617f3-0cab-48a3-ea33-c34f4325f497"
      },
      "outputs": [
        {
          "output_type": "display_data",
          "data": {
            "text/plain": [
              "<IPython.core.display.HTML object>"
            ],
            "text/html": [
              "\n",
              "     <input type=\"file\" id=\"files-d6978ae1-8f61-4a5b-bc65-a045cfd6a04d\" name=\"files[]\" multiple disabled\n",
              "        style=\"border:none\" />\n",
              "     <output id=\"result-d6978ae1-8f61-4a5b-bc65-a045cfd6a04d\">\n",
              "      Upload widget is only available when the cell has been executed in the\n",
              "      current browser session. Please rerun this cell to enable.\n",
              "      </output>\n",
              "      <script>// Copyright 2017 Google LLC\n",
              "//\n",
              "// Licensed under the Apache License, Version 2.0 (the \"License\");\n",
              "// you may not use this file except in compliance with the License.\n",
              "// You may obtain a copy of the License at\n",
              "//\n",
              "//      http://www.apache.org/licenses/LICENSE-2.0\n",
              "//\n",
              "// Unless required by applicable law or agreed to in writing, software\n",
              "// distributed under the License is distributed on an \"AS IS\" BASIS,\n",
              "// WITHOUT WARRANTIES OR CONDITIONS OF ANY KIND, either express or implied.\n",
              "// See the License for the specific language governing permissions and\n",
              "// limitations under the License.\n",
              "\n",
              "/**\n",
              " * @fileoverview Helpers for google.colab Python module.\n",
              " */\n",
              "(function(scope) {\n",
              "function span(text, styleAttributes = {}) {\n",
              "  const element = document.createElement('span');\n",
              "  element.textContent = text;\n",
              "  for (const key of Object.keys(styleAttributes)) {\n",
              "    element.style[key] = styleAttributes[key];\n",
              "  }\n",
              "  return element;\n",
              "}\n",
              "\n",
              "// Max number of bytes which will be uploaded at a time.\n",
              "const MAX_PAYLOAD_SIZE = 100 * 1024;\n",
              "\n",
              "function _uploadFiles(inputId, outputId) {\n",
              "  const steps = uploadFilesStep(inputId, outputId);\n",
              "  const outputElement = document.getElementById(outputId);\n",
              "  // Cache steps on the outputElement to make it available for the next call\n",
              "  // to uploadFilesContinue from Python.\n",
              "  outputElement.steps = steps;\n",
              "\n",
              "  return _uploadFilesContinue(outputId);\n",
              "}\n",
              "\n",
              "// This is roughly an async generator (not supported in the browser yet),\n",
              "// where there are multiple asynchronous steps and the Python side is going\n",
              "// to poll for completion of each step.\n",
              "// This uses a Promise to block the python side on completion of each step,\n",
              "// then passes the result of the previous step as the input to the next step.\n",
              "function _uploadFilesContinue(outputId) {\n",
              "  const outputElement = document.getElementById(outputId);\n",
              "  const steps = outputElement.steps;\n",
              "\n",
              "  const next = steps.next(outputElement.lastPromiseValue);\n",
              "  return Promise.resolve(next.value.promise).then((value) => {\n",
              "    // Cache the last promise value to make it available to the next\n",
              "    // step of the generator.\n",
              "    outputElement.lastPromiseValue = value;\n",
              "    return next.value.response;\n",
              "  });\n",
              "}\n",
              "\n",
              "/**\n",
              " * Generator function which is called between each async step of the upload\n",
              " * process.\n",
              " * @param {string} inputId Element ID of the input file picker element.\n",
              " * @param {string} outputId Element ID of the output display.\n",
              " * @return {!Iterable<!Object>} Iterable of next steps.\n",
              " */\n",
              "function* uploadFilesStep(inputId, outputId) {\n",
              "  const inputElement = document.getElementById(inputId);\n",
              "  inputElement.disabled = false;\n",
              "\n",
              "  const outputElement = document.getElementById(outputId);\n",
              "  outputElement.innerHTML = '';\n",
              "\n",
              "  const pickedPromise = new Promise((resolve) => {\n",
              "    inputElement.addEventListener('change', (e) => {\n",
              "      resolve(e.target.files);\n",
              "    });\n",
              "  });\n",
              "\n",
              "  const cancel = document.createElement('button');\n",
              "  inputElement.parentElement.appendChild(cancel);\n",
              "  cancel.textContent = 'Cancel upload';\n",
              "  const cancelPromise = new Promise((resolve) => {\n",
              "    cancel.onclick = () => {\n",
              "      resolve(null);\n",
              "    };\n",
              "  });\n",
              "\n",
              "  // Wait for the user to pick the files.\n",
              "  const files = yield {\n",
              "    promise: Promise.race([pickedPromise, cancelPromise]),\n",
              "    response: {\n",
              "      action: 'starting',\n",
              "    }\n",
              "  };\n",
              "\n",
              "  cancel.remove();\n",
              "\n",
              "  // Disable the input element since further picks are not allowed.\n",
              "  inputElement.disabled = true;\n",
              "\n",
              "  if (!files) {\n",
              "    return {\n",
              "      response: {\n",
              "        action: 'complete',\n",
              "      }\n",
              "    };\n",
              "  }\n",
              "\n",
              "  for (const file of files) {\n",
              "    const li = document.createElement('li');\n",
              "    li.append(span(file.name, {fontWeight: 'bold'}));\n",
              "    li.append(span(\n",
              "        `(${file.type || 'n/a'}) - ${file.size} bytes, ` +\n",
              "        `last modified: ${\n",
              "            file.lastModifiedDate ? file.lastModifiedDate.toLocaleDateString() :\n",
              "                                    'n/a'} - `));\n",
              "    const percent = span('0% done');\n",
              "    li.appendChild(percent);\n",
              "\n",
              "    outputElement.appendChild(li);\n",
              "\n",
              "    const fileDataPromise = new Promise((resolve) => {\n",
              "      const reader = new FileReader();\n",
              "      reader.onload = (e) => {\n",
              "        resolve(e.target.result);\n",
              "      };\n",
              "      reader.readAsArrayBuffer(file);\n",
              "    });\n",
              "    // Wait for the data to be ready.\n",
              "    let fileData = yield {\n",
              "      promise: fileDataPromise,\n",
              "      response: {\n",
              "        action: 'continue',\n",
              "      }\n",
              "    };\n",
              "\n",
              "    // Use a chunked sending to avoid message size limits. See b/62115660.\n",
              "    let position = 0;\n",
              "    do {\n",
              "      const length = Math.min(fileData.byteLength - position, MAX_PAYLOAD_SIZE);\n",
              "      const chunk = new Uint8Array(fileData, position, length);\n",
              "      position += length;\n",
              "\n",
              "      const base64 = btoa(String.fromCharCode.apply(null, chunk));\n",
              "      yield {\n",
              "        response: {\n",
              "          action: 'append',\n",
              "          file: file.name,\n",
              "          data: base64,\n",
              "        },\n",
              "      };\n",
              "\n",
              "      let percentDone = fileData.byteLength === 0 ?\n",
              "          100 :\n",
              "          Math.round((position / fileData.byteLength) * 100);\n",
              "      percent.textContent = `${percentDone}% done`;\n",
              "\n",
              "    } while (position < fileData.byteLength);\n",
              "  }\n",
              "\n",
              "  // All done.\n",
              "  yield {\n",
              "    response: {\n",
              "      action: 'complete',\n",
              "    }\n",
              "  };\n",
              "}\n",
              "\n",
              "scope.google = scope.google || {};\n",
              "scope.google.colab = scope.google.colab || {};\n",
              "scope.google.colab._files = {\n",
              "  _uploadFiles,\n",
              "  _uploadFilesContinue,\n",
              "};\n",
              "})(self);\n",
              "</script> "
            ]
          },
          "metadata": {}
        }
      ],
      "source": [
        "from google.colab import files\n",
        "uploaded = files.upload()\n",
        "file_name = list(uploaded.keys())[0] # Get the name of the uploaded file\n",
        "df = pd.read_csv(file_name) # Use the actual file name to read the csv"
      ]
    },
    {
      "cell_type": "code",
      "execution_count": null,
      "id": "9IznoFZriWg0",
      "metadata": {
        "id": "9IznoFZriWg0"
      },
      "outputs": [],
      "source": [
        "# Shape of dataset\n",
        "print(\"Shape:\", df.shape)\n",
        "\n",
        "# Column names and datatypes\n",
        "print(\"\\nColumn Names & Dtypes:\")\n",
        "print(df.dtypes)\n",
        "\n",
        "# Missing values\n",
        "print(\"\\nMissing values:\")\n",
        "print(df.isnull().sum())\n",
        "\n",
        "# Duplicates\n",
        "print(\"\\nDuplicates:\", df.duplicated().sum())\n"
      ]
    },
    {
      "cell_type": "code",
      "execution_count": null,
      "id": "x5bVhBSIiack",
      "metadata": {
        "id": "x5bVhBSIiack"
      },
      "outputs": [],
      "source": [
        "# Numerical summary\n",
        "df.describe().T\n"
      ]
    },
    {
      "cell_type": "code",
      "execution_count": null,
      "id": "RoGHatOSidXm",
      "metadata": {
        "id": "RoGHatOSidXm"
      },
      "outputs": [],
      "source": [
        "# Top 10 genres\n",
        "df['genre'].value_counts().head(10)\n"
      ]
    },
    {
      "cell_type": "code",
      "execution_count": null,
      "id": "OY1AdkEKigLH",
      "metadata": {
        "id": "OY1AdkEKigLH"
      },
      "outputs": [],
      "source": []
    },
    {
      "cell_type": "code",
      "source": [
        "# outlier removal using iqr method\n",
        "numeric_cols = df.select_dtypes(include='number').columns\n",
        "for col in numeric_cols:\n",
        "    Q1 = df[col].quantile(0.25)\n",
        "    Q3 = df[col].quantile(0.75)\n",
        "    IQR = Q3 - Q1\n",
        "    lower_bound = Q1 - 1.5 * IQR\n",
        "    upper_bound = Q3 + 1.5 * IQR\n",
        "    df = df[(df[col] >= lower_bound) & (df[col] <= upper_bound)]\n",
        "\n",
        "print(\"Outliers removed using IQR for columns:\")\n",
        "print(list(numeric_cols))\n",
        "\n",
        "plt.figure(figsize=(15, 5))\n",
        "for i, col in enumerate(numeric_cols, 1):\n",
        "    plt.subplot(1, len(numeric_cols), i)\n",
        "    sns.boxplot(y=df[col], color='lightblue')\n",
        "    plt.title(f'{col}\\n(Outliers Removed)', fontsize=10)\n",
        "    plt.tight_layout()\n",
        "\n",
        "plt.show()"
      ],
      "metadata": {
        "id": "fj2Wbw3_40lZ"
      },
      "id": "fj2Wbw3_40lZ",
      "execution_count": null,
      "outputs": []
    },
    {
      "cell_type": "code",
      "source": [
        "#box plot distribution of top 10 genre\n",
        "plt.figure(figsize=(12,6))\n",
        "top_genres = df['genre'].value_counts().head(10).index\n",
        "sns.boxplot(x='genre', y='popularity', data=df[df['genre'].isin(top_genres)], palette='Set2')\n",
        "plt.title('Popularity Distribution by Top 10 Genres')\n",
        "plt.xticks(rotation=45)\n",
        "plt.ylabel('Popularity')\n",
        "plt.show()\n"
      ],
      "metadata": {
        "id": "3oMVmkEXj2z3"
      },
      "id": "3oMVmkEXj2z3",
      "execution_count": null,
      "outputs": []
    },
    {
      "cell_type": "code",
      "execution_count": null,
      "id": "a1z5kgo1ii7V",
      "metadata": {
        "id": "a1z5kgo1ii7V"
      },
      "outputs": [],
      "source": [
        "# countplot of top 10 genre\n",
        "plt.figure(figsize=(20,10))\n",
        "sns.countplot(x='genre',data=df)\n",
        "plt.title('Distribution of top 10 genre')\n",
        "plt.xticks(rotation=45)\n",
        "plt.xlabel('genre')\n",
        "plt.ylabel('Count')\n",
        "plt.show()\n"
      ]
    },
    {
      "cell_type": "code",
      "execution_count": null,
      "id": "yMVS-mqDioNl",
      "metadata": {
        "id": "yMVS-mqDioNl"
      },
      "outputs": [],
      "source": [
        "# Correlation Heatmap\n",
        "plt.figure(figsize=(8,6))\n",
        "corr = df[['danceability','energy','tempo','popularity']].corr()\n",
        "sns.heatmap(corr, annot=True, cmap='coolwarm')\n",
        "plt.title('Correlation Heatmap')\n",
        "plt.show()\n"
      ]
    },
    {
      "cell_type": "code",
      "execution_count": null,
      "id": "GAMiOG0livt6",
      "metadata": {
        "id": "GAMiOG0livt6"
      },
      "outputs": [],
      "source": [
        "# Scatterplot: Energy vs Danceability\n",
        "plt.figure(figsize=(8,5))\n",
        "sns.scatterplot(x='energy', y='danceability', data=df, alpha=0.5)\n",
        "plt.title('Energy vs Danceability')\n",
        "plt.show()\n"
      ]
    },
    {
      "cell_type": "code",
      "source": [
        "#histogram plot\n",
        "plt.figure(figsize=(8,5))\n",
        "sns.histplot(df['energy'], color='orange', bins=30)\n",
        "plt.title('Distribution of Energy ')\n",
        "plt.xlabel('Energy')\n",
        "plt.ylabel('Count')\n",
        "plt.show()\n"
      ],
      "metadata": {
        "id": "gfndVVEcjyi7"
      },
      "id": "gfndVVEcjyi7",
      "execution_count": null,
      "outputs": []
    },
    {
      "cell_type": "code",
      "source": [
        "#barlot btw danceabilty vs genre\n",
        "plt.figure(figsize=(12, 6))\n",
        "sns.barplot(x='genre', y='danceability', data=df)\n",
        "plt.title('Danceability Distribution by Genre')\n",
        "plt.xticks(rotation=45)\n",
        "plt.grid(True)\n",
        "plt.show()\n"
      ],
      "metadata": {
        "id": "GMuwZHp78aV5"
      },
      "id": "GMuwZHp78aV5",
      "execution_count": null,
      "outputs": []
    },
    {
      "cell_type": "markdown",
      "id": "fe32d72c",
      "metadata": {
        "id": "fe32d72c"
      },
      "source": [
        "\n",
        "## Insights and Observations\n",
        "\n",
        "1. The popularity distribution shows that most songs have low to medium popularity, very few songs are extremely popular.\n",
        "2. Danceability values are mostly between 0.4 and 0.8, some outliers are there.\n",
        "3. From the heatmap, energy and danceability don't have a strong correlation with popularity, but tempo seems a little independent.\n",
        "4. Pop genre dominates the dataset, followed by other genres like rap and rock.\n",
        "5. Scatter plot shows that songs can be high energy but not always high danceability, so they are not directly linked.\n",
        "\n",
        "This was a simple EDA project done as a beginner in ML. I learnt how to explore data, clean it, and visualize it.\n"
      ]
    },
    {
      "cell_type": "markdown",
      "source": [
        "Insights and Observations\n",
        "1 most dancable song is hip hop\n",
        "2 least dancable song is opera\n",
        "3 most frequent energy range of energy is 0.6 to 0.8\n",
        "4 no clear relationship between energy and dancablity\n",
        "5 no two attributes are strongly related and dependent on each other\n",
        "6 there were no missing values and outliers were removed using iqr method"
      ],
      "metadata": {
        "id": "kc2kuKh--lqG"
      },
      "id": "kc2kuKh--lqG"
    },
    {
      "cell_type": "code",
      "source": [],
      "metadata": {
        "id": "n4CSi2Rju2h0"
      },
      "id": "n4CSi2Rju2h0",
      "execution_count": null,
      "outputs": []
    }
  ],
  "metadata": {
    "colab": {
      "provenance": [],
      "include_colab_link": true
    },
    "kernelspec": {
      "display_name": "Python 3",
      "name": "python3"
    },
    "language_info": {
      "name": "python"
    }
  },
  "nbformat": 4,
  "nbformat_minor": 5
}